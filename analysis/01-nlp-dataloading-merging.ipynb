{
 "cells": [
  {
   "cell_type": "markdown",
   "metadata": {},
   "source": [
    "# Setup"
   ]
  },
  {
   "cell_type": "markdown",
   "metadata": {},
   "source": [
    "## Load in Packages"
   ]
  },
  {
   "cell_type": "code",
   "execution_count": 1,
   "metadata": {},
   "outputs": [],
   "source": [
    "# import libraries to navigate within directories\n",
    "import os\n",
    "import sys\n",
    "import re\n",
    "\n",
    "# the usual suspects\n",
    "import pandas as pd\n",
    "import numpy as np\n",
    "\n",
    "# Jupyter-specific imports\n",
    "from IPython.display import clear_output\n",
    "%matplotlib inline \n",
    "\n",
    "# Suppress warnings (optional)\n",
    "import warnings\n",
    "warnings.filterwarnings(\"ignore\", category=DeprecationWarning)"
   ]
  },
  {
   "cell_type": "markdown",
   "metadata": {},
   "source": [
    "## Access Local Git Repo\n"
   ]
  },
  {
   "cell_type": "code",
   "execution_count": 2,
   "metadata": {},
   "outputs": [],
   "source": [
    "# Directory & file hierarchy\n",
    "proj_dir = os.path.abspath('../')\n",
    "analysis_dir = os.getcwd()\n",
    "data_dir = os.path.join(proj_dir,'data')\n",
    "transcript_dir = os.path.join(data_dir, 'transcripts')\n",
    "results_dir = os.path.join(proj_dir,'results')\n",
    "plot_dir = os.path.join(results_dir,'plots')\n",
    "csv_dir = os.path.join(results_dir,'csv')\n",
    "\n",
    "# Add helpers to python path\n",
    "if os.path.join(proj_dir,'analysis','python') not in sys.path:\n",
    "    sys.path.append(os.path.join(proj_dir,'analysis','python'))\n",
    "    \n",
    "if not os.path.exists(results_dir):\n",
    "    os.makedirs(results_dir)\n",
    "    \n",
    "if not os.path.exists(plot_dir):\n",
    "    os.makedirs(plot_dir)   \n",
    "    \n",
    "if not os.path.exists(csv_dir):\n",
    "    os.makedirs(csv_dir)       "
   ]
  },
  {
   "cell_type": "markdown",
   "metadata": {},
   "source": [
    "## Import Metadata and Transcript data from repo"
   ]
  },
  {
   "cell_type": "markdown",
   "metadata": {},
   "source": [
    "### Import Metadata"
   ]
  },
  {
   "cell_type": "code",
   "execution_count": 3,
   "metadata": {},
   "outputs": [
    {
     "data": {
      "text/html": [
       "<div>\n",
       "<style scoped>\n",
       "    .dataframe tbody tr th:only-of-type {\n",
       "        vertical-align: middle;\n",
       "    }\n",
       "\n",
       "    .dataframe tbody tr th {\n",
       "        vertical-align: top;\n",
       "    }\n",
       "\n",
       "    .dataframe thead th {\n",
       "        text-align: right;\n",
       "    }\n",
       "</style>\n",
       "<table border=\"1\" class=\"dataframe\">\n",
       "  <thead>\n",
       "    <tr style=\"text-align: right;\">\n",
       "      <th></th>\n",
       "      <th>channel_name</th>\n",
       "      <th>video_title</th>\n",
       "      <th>video_url</th>\n",
       "      <th>publish_date</th>\n",
       "      <th>video_length</th>\n",
       "      <th>views</th>\n",
       "      <th>likes</th>\n",
       "      <th>comments</th>\n",
       "      <th>transcript_filename</th>\n",
       "      <th>Tier (1, 2, or 3)</th>\n",
       "    </tr>\n",
       "  </thead>\n",
       "  <tbody>\n",
       "    <tr>\n",
       "      <th>14067</th>\n",
       "      <td>Black Girls Code</td>\n",
       "      <td>Have You Ever Thought About Working at Google?...</td>\n",
       "      <td>https://www.youtube.com/watch?v=ahQQpYG0Lhk</td>\n",
       "      <td>4/26/24</td>\n",
       "      <td>6:26</td>\n",
       "      <td>199330</td>\n",
       "      <td>5625</td>\n",
       "      <td>4</td>\n",
       "      <td>haveyoueverthoughtaboutworkingatgoogleepisode8...</td>\n",
       "      <td>1</td>\n",
       "    </tr>\n",
       "    <tr>\n",
       "      <th>14107</th>\n",
       "      <td>Black Girls Code</td>\n",
       "      <td>Tutorial 4: How to Code Animated Art In JavaSc...</td>\n",
       "      <td>https://www.youtube.com/watch?v=I49CXUIXvM8</td>\n",
       "      <td>4/28/23</td>\n",
       "      <td>11:18</td>\n",
       "      <td>84000</td>\n",
       "      <td>179</td>\n",
       "      <td>8</td>\n",
       "      <td>tutorial4howtocodeanimatedartinjavascriptcodea...</td>\n",
       "      <td>1</td>\n",
       "    </tr>\n",
       "    <tr>\n",
       "      <th>14080</th>\n",
       "      <td>Black Girls Code</td>\n",
       "      <td>CODE Along: Win $2500!</td>\n",
       "      <td>https://www.youtube.com/watch?v=fZKyNSH2mmM</td>\n",
       "      <td>8/25/23</td>\n",
       "      <td>2:19</td>\n",
       "      <td>139194</td>\n",
       "      <td>344</td>\n",
       "      <td>18</td>\n",
       "      <td>codealongwin2500.txt</td>\n",
       "      <td>1</td>\n",
       "    </tr>\n",
       "  </tbody>\n",
       "</table>\n",
       "</div>"
      ],
      "text/plain": [
       "           channel_name                                        video_title  \\\n",
       "14067  Black Girls Code  Have You Ever Thought About Working at Google?...   \n",
       "14107  Black Girls Code  Tutorial 4: How to Code Animated Art In JavaSc...   \n",
       "14080  Black Girls Code                             CODE Along: Win $2500!   \n",
       "\n",
       "                                         video_url publish_date video_length  \\\n",
       "14067  https://www.youtube.com/watch?v=ahQQpYG0Lhk      4/26/24         6:26   \n",
       "14107  https://www.youtube.com/watch?v=I49CXUIXvM8      4/28/23        11:18   \n",
       "14080  https://www.youtube.com/watch?v=fZKyNSH2mmM      8/25/23         2:19   \n",
       "\n",
       "        views  likes  comments  \\\n",
       "14067  199330   5625         4   \n",
       "14107   84000    179         8   \n",
       "14080  139194    344        18   \n",
       "\n",
       "                                     transcript_filename  Tier (1, 2, or 3)  \n",
       "14067  haveyoueverthoughtaboutworkingatgoogleepisode8...                  1  \n",
       "14107  tutorial4howtocodeanimatedartinjavascriptcodea...                  1  \n",
       "14080                               codealongwin2500.txt                  1  "
      ]
     },
     "execution_count": 3,
     "metadata": {},
     "output_type": "execute_result"
    }
   ],
   "source": [
    "# Define the path to the data directory relative to your current script\n",
    "data_dir = os.path.join(\"..\", \"..\", \"data\") # go up two directory levels\n",
    "\n",
    "# Importing data for all channels\n",
    "all_channels = pd.read_csv(os.path.join(data_dir,\"master_metadata.csv\"))\n",
    "\n",
    "# Remove the 'Unnamed: 9' column if it exists\n",
    "if 'Unnamed: 9' in all_channels.columns:\n",
    "    all_channels = all_channels.drop(columns=['Unnamed: 9'])\n",
    "\n",
    "# Make tier an integer\n",
    "all_channels['Tier (1, 2, or 3)'] = all_channels['Tier (1, 2, or 3)'].astype(int)\n",
    "\n",
    "# Sort to place BGC at the top\n",
    "all_channels = all_channels.sort_values(\n",
    "    by='channel_name',\n",
    "    key=lambda x: x == 'Black Girls Code',\n",
    "    ascending=[False]\n",
    ")\n",
    "\n",
    "all_channels.head(3) # let's take a peek..."
   ]
  },
  {
   "cell_type": "markdown",
   "metadata": {},
   "source": [
    "### Import Transcripts"
   ]
  },
  {
   "cell_type": "code",
   "execution_count": 4,
   "metadata": {},
   "outputs": [
    {
     "data": {
      "text/html": [
       "<div>\n",
       "<style scoped>\n",
       "    .dataframe tbody tr th:only-of-type {\n",
       "        vertical-align: middle;\n",
       "    }\n",
       "\n",
       "    .dataframe tbody tr th {\n",
       "        vertical-align: top;\n",
       "    }\n",
       "\n",
       "    .dataframe thead th {\n",
       "        text-align: right;\n",
       "    }\n",
       "</style>\n",
       "<table border=\"1\" class=\"dataframe\">\n",
       "  <thead>\n",
       "    <tr style=\"text-align: right;\">\n",
       "      <th></th>\n",
       "      <th>transcript_filename</th>\n",
       "      <th>content</th>\n",
       "      <th>channel_name_processed</th>\n",
       "    </tr>\n",
       "  </thead>\n",
       "  <tbody>\n",
       "    <tr>\n",
       "      <th>0</th>\n",
       "      <td>anewwaytomakemoneyonrobloxpremiumpayouts.txt</td>\n",
       "      <td>hello and welcome back to another video just w...</td>\n",
       "      <td>alvinblox</td>\n",
       "    </tr>\n",
       "    <tr>\n",
       "      <th>1</th>\n",
       "      <td>animationsrobloxscriptingtutorial.txt</td>\n",
       "      <td>how to create and play animations in Roblox st...</td>\n",
       "      <td>alvinblox</td>\n",
       "    </tr>\n",
       "    <tr>\n",
       "      <th>2</th>\n",
       "      <td>attributesrobloxscriptingtutorial.txt</td>\n",
       "      <td>in this video I'm going to show you how to use...</td>\n",
       "      <td>alvinblox</td>\n",
       "    </tr>\n",
       "  </tbody>\n",
       "</table>\n",
       "</div>"
      ],
      "text/plain": [
       "                            transcript_filename  \\\n",
       "0  anewwaytomakemoneyonrobloxpremiumpayouts.txt   \n",
       "1         animationsrobloxscriptingtutorial.txt   \n",
       "2         attributesrobloxscriptingtutorial.txt   \n",
       "\n",
       "                                             content channel_name_processed  \n",
       "0  hello and welcome back to another video just w...              alvinblox  \n",
       "1  how to create and play animations in Roblox st...              alvinblox  \n",
       "2  in this video I'm going to show you how to use...              alvinblox  "
      ]
     },
     "execution_count": 4,
     "metadata": {},
     "output_type": "execute_result"
    }
   ],
   "source": [
    "def load_txt_files_to_dataframe(root_folder):\n",
    "    # Initialize an empty DataFrame to hold the content of all .txt files\n",
    "    all_data = []\n",
    "\n",
    "    # Traverse the directory tree\n",
    "    for subdir, _, files in os.walk(root_folder):\n",
    "        if subdir.endswith(\"_for_machines\"):\n",
    "            # Extract the channel name (so transcripts can be properly matched in cases of videos with the same name)\n",
    "            channel_name = os.path.basename(subdir).replace('_transcripts_for_machines', '')\n",
    "\n",
    "            # Process each .txt file in the folder\n",
    "            for file in files:\n",
    "                if file.endswith(\".txt\"):\n",
    "                    file_path = os.path.join(subdir, file)\n",
    "                    with open(file_path, 'r', encoding='utf-8') as f:\n",
    "                        content = f.read()\n",
    "                        # Append the content and file path to the list\n",
    "                        all_data.append({'transcript_filename': file, 'content': content, 'channel_name_processed': channel_name})\n",
    "\n",
    "    # Convert the list to a DataFrame\n",
    "    df = pd.DataFrame(all_data)\n",
    "    return df\n",
    "\n",
    "transcripts = load_txt_files_to_dataframe(data_dir)\n",
    "\n",
    "transcripts.head(3) # take a peek... yooooo, Roblox???? "
   ]
  },
  {
   "cell_type": "markdown",
   "metadata": {},
   "source": [
    "# Dataset Pre-processing: Merge Metadata and Transcript Data, then save the .csv"
   ]
  },
  {
   "cell_type": "markdown",
   "metadata": {},
   "source": [
    "## Merge Metadata and Transcript data:"
   ]
  },
  {
   "cell_type": "code",
   "execution_count": 5,
   "metadata": {},
   "outputs": [
    {
     "data": {
      "text/html": [
       "<div>\n",
       "<style scoped>\n",
       "    .dataframe tbody tr th:only-of-type {\n",
       "        vertical-align: middle;\n",
       "    }\n",
       "\n",
       "    .dataframe tbody tr th {\n",
       "        vertical-align: top;\n",
       "    }\n",
       "\n",
       "    .dataframe thead th {\n",
       "        text-align: right;\n",
       "    }\n",
       "</style>\n",
       "<table border=\"1\" class=\"dataframe\">\n",
       "  <thead>\n",
       "    <tr style=\"text-align: right;\">\n",
       "      <th></th>\n",
       "      <th>channel_name</th>\n",
       "      <th>video_title</th>\n",
       "      <th>video_url</th>\n",
       "      <th>publish_date</th>\n",
       "      <th>video_length</th>\n",
       "      <th>views</th>\n",
       "      <th>likes</th>\n",
       "      <th>comments</th>\n",
       "      <th>transcript_filename</th>\n",
       "      <th>Tier (1, 2, or 3)</th>\n",
       "      <th>content</th>\n",
       "    </tr>\n",
       "  </thead>\n",
       "  <tbody>\n",
       "    <tr>\n",
       "      <th>0</th>\n",
       "      <td>Black Girls Code</td>\n",
       "      <td>Have You Ever Thought About Working at Google?...</td>\n",
       "      <td>https://www.youtube.com/watch?v=ahQQpYG0Lhk</td>\n",
       "      <td>4/26/24</td>\n",
       "      <td>6:26</td>\n",
       "      <td>199330</td>\n",
       "      <td>5625</td>\n",
       "      <td>4</td>\n",
       "      <td>haveyoueverthoughtaboutworkingatgoogleepisode8...</td>\n",
       "      <td>1</td>\n",
       "      <td>hello everyone and welcome back to codal along...</td>\n",
       "    </tr>\n",
       "    <tr>\n",
       "      <th>1</th>\n",
       "      <td>Black Girls Code</td>\n",
       "      <td>Tutorial 4: How to Code Animated Art In JavaSc...</td>\n",
       "      <td>https://www.youtube.com/watch?v=I49CXUIXvM8</td>\n",
       "      <td>4/28/23</td>\n",
       "      <td>11:18</td>\n",
       "      <td>84000</td>\n",
       "      <td>179</td>\n",
       "      <td>8</td>\n",
       "      <td>tutorial4howtocodeanimatedartinjavascriptcodea...</td>\n",
       "      <td>1</td>\n",
       "      <td>what's up for the encoders welcome back to the...</td>\n",
       "    </tr>\n",
       "    <tr>\n",
       "      <th>2</th>\n",
       "      <td>Black Girls Code</td>\n",
       "      <td>CODE Along: Win $2500!</td>\n",
       "      <td>https://www.youtube.com/watch?v=fZKyNSH2mmM</td>\n",
       "      <td>8/25/23</td>\n",
       "      <td>2:19</td>\n",
       "      <td>139194</td>\n",
       "      <td>344</td>\n",
       "      <td>18</td>\n",
       "      <td>codealongwin2500.txt</td>\n",
       "      <td>1</td>\n",
       "      <td>hey what's up everyone I'm Cheyenne and I'm yo...</td>\n",
       "    </tr>\n",
       "    <tr>\n",
       "      <th>3</th>\n",
       "      <td>Black Girls Code</td>\n",
       "      <td>Don't Know What Career to Choose? Actress and ...</td>\n",
       "      <td>https://www.youtube.com/watch?v=ohceCkLK8Wo</td>\n",
       "      <td>8/21/23</td>\n",
       "      <td>0:44</td>\n",
       "      <td>1143</td>\n",
       "      <td>40</td>\n",
       "      <td>2</td>\n",
       "      <td>dontknowwhatcareertochooseactressandgamerellab...</td>\n",
       "      <td>1</td>\n",
       "      <td>this question means so much to me because when...</td>\n",
       "    </tr>\n",
       "    <tr>\n",
       "      <th>4</th>\n",
       "      <td>Black Girls Code</td>\n",
       "      <td>Watch Actress Ella Balinska Recap Her Career i...</td>\n",
       "      <td>https://www.youtube.com/watch?v=jAYK6vJbhxU</td>\n",
       "      <td>8/19/23</td>\n",
       "      <td>0:48</td>\n",
       "      <td>3493</td>\n",
       "      <td>117</td>\n",
       "      <td>10</td>\n",
       "      <td>watchactressellabalinskarecaphercareerin60seco...</td>\n",
       "      <td>1</td>\n",
       "      <td>60 seconds okay so I started off uh with a cou...</td>\n",
       "    </tr>\n",
       "  </tbody>\n",
       "</table>\n",
       "</div>"
      ],
      "text/plain": [
       "       channel_name                                        video_title  \\\n",
       "0  Black Girls Code  Have You Ever Thought About Working at Google?...   \n",
       "1  Black Girls Code  Tutorial 4: How to Code Animated Art In JavaSc...   \n",
       "2  Black Girls Code                             CODE Along: Win $2500!   \n",
       "3  Black Girls Code  Don't Know What Career to Choose? Actress and ...   \n",
       "4  Black Girls Code  Watch Actress Ella Balinska Recap Her Career i...   \n",
       "\n",
       "                                     video_url publish_date video_length  \\\n",
       "0  https://www.youtube.com/watch?v=ahQQpYG0Lhk      4/26/24         6:26   \n",
       "1  https://www.youtube.com/watch?v=I49CXUIXvM8      4/28/23        11:18   \n",
       "2  https://www.youtube.com/watch?v=fZKyNSH2mmM      8/25/23         2:19   \n",
       "3  https://www.youtube.com/watch?v=ohceCkLK8Wo      8/21/23         0:44   \n",
       "4  https://www.youtube.com/watch?v=jAYK6vJbhxU      8/19/23         0:48   \n",
       "\n",
       "    views  likes  comments                                transcript_filename  \\\n",
       "0  199330   5625         4  haveyoueverthoughtaboutworkingatgoogleepisode8...   \n",
       "1   84000    179         8  tutorial4howtocodeanimatedartinjavascriptcodea...   \n",
       "2  139194    344        18                               codealongwin2500.txt   \n",
       "3    1143     40         2  dontknowwhatcareertochooseactressandgamerellab...   \n",
       "4    3493    117        10  watchactressellabalinskarecaphercareerin60seco...   \n",
       "\n",
       "   Tier (1, 2, or 3)                                            content  \n",
       "0                  1  hello everyone and welcome back to codal along...  \n",
       "1                  1  what's up for the encoders welcome back to the...  \n",
       "2                  1  hey what's up everyone I'm Cheyenne and I'm yo...  \n",
       "3                  1  this question means so much to me because when...  \n",
       "4                  1  60 seconds okay so I started off uh with a cou...  "
      ]
     },
     "execution_count": 5,
     "metadata": {},
     "output_type": "execute_result"
    }
   ],
   "source": [
    "# Process the channel names in 'all_channels' so that they match the format of those in 'trancripts' df (to allow for merge)\n",
    "all_channels['channel_name_processed'] = all_channels['channel_name'].str.lower().str.replace(':', '-') # convert to lowercase, also change ':' to '-' (due to kidicode ninja channel)\n",
    "\n",
    "# Create a dataframe that merges metadata and transcript content\n",
    "df_metadata_transcript = pd.merge(all_channels, transcripts, on=['transcript_filename','channel_name_processed'], how='left') # merge on basis of filename and channel name\n",
    "\n",
    "# Drop processed channel name (no longer relevant)\n",
    "df_metadata_transcript = df_metadata_transcript.drop(columns=['channel_name_processed'])\n",
    "\n",
    "# View merged df\n",
    "df_metadata_transcript.head(5)"
   ]
  },
  {
   "cell_type": "markdown",
   "metadata": {},
   "source": [
    "## Ensure no rows have been lost or gained"
   ]
  },
  {
   "cell_type": "markdown",
   "metadata": {},
   "source": [
    "Check that the lengths of the merged df, the original transcripts df, the original metadata df, are all the same as the number of transcripts in data folder."
   ]
  },
  {
   "cell_type": "code",
   "execution_count": 6,
   "metadata": {},
   "outputs": [
    {
     "name": "stdout",
     "output_type": "stream",
     "text": [
      "All lengths the same! There are 16206 videos with transcripts.\n"
     ]
    }
   ],
   "source": [
    "# Count the number of files in all the folders ending in '_transcripts' \n",
    "total_files = 0\n",
    "\n",
    "# Walk through the directory tree\n",
    "for subdir, dirs, files in os.walk(data_dir):\n",
    "    # Check if the folder name ends with 'for_humans'\n",
    "    if subdir.endswith('for_humans'):\n",
    "        # Count the number of files in this folder\n",
    "        total_files += len(files)\n",
    "\n",
    "if len(df_metadata_transcript) == len(transcripts) == len(all_channels) == total_files:\n",
    "    print(f'All lengths the same! There are {len(df_metadata_transcript)} videos with transcripts.')\n",
    "else:\n",
    "    print('Discrepency detected. Check for merge errors.')"
   ]
  },
  {
   "cell_type": "markdown",
   "metadata": {},
   "source": [
    "## Ensure that rows without transcripts are dropped:"
   ]
  },
  {
   "cell_type": "code",
   "execution_count": 7,
   "metadata": {},
   "outputs": [
    {
     "data": {
      "text/plain": [
       "(16206, 11)"
      ]
     },
     "execution_count": 7,
     "metadata": {},
     "output_type": "execute_result"
    }
   ],
   "source": [
    "# Drop rows that don't have transcripts\n",
    "df_metadata_transcript = df_metadata_transcript.dropna(subset = 'content')\n",
    "df_metadata_transcript.shape"
   ]
  },
  {
   "cell_type": "markdown",
   "metadata": {},
   "source": [
    "## Save \"df_metadata_transcript\" as .csv"
   ]
  },
  {
   "cell_type": "code",
   "execution_count": 8,
   "metadata": {},
   "outputs": [],
   "source": [
    "df_metadata_transcript.to_csv('metadata_transcript.csv', index=False)"
   ]
  },
  {
   "cell_type": "markdown",
   "metadata": {},
   "source": [
    "## Lines of df with wrong transcript_filename entry (Nora note to self: delete later once fixed)"
   ]
  },
  {
   "cell_type": "code",
   "execution_count": 9,
   "metadata": {},
   "outputs": [
    {
     "data": {
      "text/html": [
       "<div>\n",
       "<style scoped>\n",
       "    .dataframe tbody tr th:only-of-type {\n",
       "        vertical-align: middle;\n",
       "    }\n",
       "\n",
       "    .dataframe tbody tr th {\n",
       "        vertical-align: top;\n",
       "    }\n",
       "\n",
       "    .dataframe thead th {\n",
       "        text-align: right;\n",
       "    }\n",
       "</style>\n",
       "<table border=\"1\" class=\"dataframe\">\n",
       "  <thead>\n",
       "    <tr style=\"text-align: right;\">\n",
       "      <th></th>\n",
       "      <th>channel_name</th>\n",
       "      <th>video_title</th>\n",
       "      <th>video_url</th>\n",
       "      <th>publish_date</th>\n",
       "      <th>video_length</th>\n",
       "      <th>views</th>\n",
       "      <th>likes</th>\n",
       "      <th>comments</th>\n",
       "      <th>transcript_filename</th>\n",
       "      <th>Tier (1, 2, or 3)</th>\n",
       "      <th>channel_name_processed</th>\n",
       "    </tr>\n",
       "  </thead>\n",
       "  <tbody>\n",
       "    <tr>\n",
       "      <th>16205</th>\n",
       "      <td>Code.org</td>\n",
       "      <td>Loops with the Bee</td>\n",
       "      <td>https://www.youtube.com/watch?v=QseP5KHrc_k</td>\n",
       "      <td>10/2/15</td>\n",
       "      <td>0:31</td>\n",
       "      <td>477</td>\n",
       "      <td>1</td>\n",
       "      <td>0</td>\n",
       "      <td>loopswiththebee.txt</td>\n",
       "      <td>1</td>\n",
       "      <td>code.org</td>\n",
       "    </tr>\n",
       "  </tbody>\n",
       "</table>\n",
       "</div>"
      ],
      "text/plain": [
       "      channel_name         video_title  \\\n",
       "16205     Code.org  Loops with the Bee   \n",
       "\n",
       "                                         video_url publish_date video_length  \\\n",
       "16205  https://www.youtube.com/watch?v=QseP5KHrc_k      10/2/15         0:31   \n",
       "\n",
       "       views  likes  comments  transcript_filename  Tier (1, 2, or 3)  \\\n",
       "16205    477      1         0  loopswiththebee.txt                  1   \n",
       "\n",
       "      channel_name_processed  \n",
       "16205               code.org  "
      ]
     },
     "execution_count": 9,
     "metadata": {},
     "output_type": "execute_result"
    }
   ],
   "source": [
    "all_channels[all_channels['transcript_filename'] == 'loopswiththebee.txt']"
   ]
  },
  {
   "cell_type": "code",
   "execution_count": 10,
   "metadata": {},
   "outputs": [
    {
     "data": {
      "text/html": [
       "<div>\n",
       "<style scoped>\n",
       "    .dataframe tbody tr th:only-of-type {\n",
       "        vertical-align: middle;\n",
       "    }\n",
       "\n",
       "    .dataframe tbody tr th {\n",
       "        vertical-align: top;\n",
       "    }\n",
       "\n",
       "    .dataframe thead th {\n",
       "        text-align: right;\n",
       "    }\n",
       "</style>\n",
       "<table border=\"1\" class=\"dataframe\">\n",
       "  <thead>\n",
       "    <tr style=\"text-align: right;\">\n",
       "      <th></th>\n",
       "      <th>channel_name</th>\n",
       "      <th>video_title</th>\n",
       "      <th>video_url</th>\n",
       "      <th>publish_date</th>\n",
       "      <th>video_length</th>\n",
       "      <th>views</th>\n",
       "      <th>likes</th>\n",
       "      <th>comments</th>\n",
       "      <th>transcript_filename</th>\n",
       "      <th>Tier (1, 2, or 3)</th>\n",
       "      <th>content</th>\n",
       "    </tr>\n",
       "  </thead>\n",
       "  <tbody>\n",
       "    <tr>\n",
       "      <th>16205</th>\n",
       "      <td>Code.org</td>\n",
       "      <td>Loops with the Bee</td>\n",
       "      <td>https://www.youtube.com/watch?v=QseP5KHrc_k</td>\n",
       "      <td>10/2/15</td>\n",
       "      <td>0:31</td>\n",
       "      <td>477</td>\n",
       "      <td>1</td>\n",
       "      <td>0</td>\n",
       "      <td>loopswiththebee.txt</td>\n",
       "      <td>1</td>\n",
       "      <td>A loop is a repetition of activity. Going into...</td>\n",
       "    </tr>\n",
       "  </tbody>\n",
       "</table>\n",
       "</div>"
      ],
      "text/plain": [
       "      channel_name         video_title  \\\n",
       "16205     Code.org  Loops with the Bee   \n",
       "\n",
       "                                         video_url publish_date video_length  \\\n",
       "16205  https://www.youtube.com/watch?v=QseP5KHrc_k      10/2/15         0:31   \n",
       "\n",
       "       views  likes  comments  transcript_filename  Tier (1, 2, or 3)  \\\n",
       "16205    477      1         0  loopswiththebee.txt                  1   \n",
       "\n",
       "                                                 content  \n",
       "16205  A loop is a repetition of activity. Going into...  "
      ]
     },
     "execution_count": 10,
     "metadata": {},
     "output_type": "execute_result"
    }
   ],
   "source": [
    "df_metadata_transcript[df_metadata_transcript['transcript_filename'] == 'loopswiththebee.txt']"
   ]
  },
  {
   "cell_type": "code",
   "execution_count": 11,
   "metadata": {},
   "outputs": [
    {
     "data": {
      "text/html": [
       "<div>\n",
       "<style scoped>\n",
       "    .dataframe tbody tr th:only-of-type {\n",
       "        vertical-align: middle;\n",
       "    }\n",
       "\n",
       "    .dataframe tbody tr th {\n",
       "        vertical-align: top;\n",
       "    }\n",
       "\n",
       "    .dataframe thead th {\n",
       "        text-align: right;\n",
       "    }\n",
       "</style>\n",
       "<table border=\"1\" class=\"dataframe\">\n",
       "  <thead>\n",
       "    <tr style=\"text-align: right;\">\n",
       "      <th></th>\n",
       "      <th>channel_name</th>\n",
       "      <th>video_title</th>\n",
       "      <th>video_url</th>\n",
       "      <th>publish_date</th>\n",
       "      <th>video_length</th>\n",
       "      <th>views</th>\n",
       "      <th>likes</th>\n",
       "      <th>comments</th>\n",
       "      <th>transcript_filename</th>\n",
       "      <th>Tier (1, 2, or 3)</th>\n",
       "      <th>content</th>\n",
       "    </tr>\n",
       "  </thead>\n",
       "  <tbody>\n",
       "    <tr>\n",
       "      <th>5435</th>\n",
       "      <td>Code.org</td>\n",
       "      <td>The Hour of Code is Here</td>\n",
       "      <td>https://www.youtube.com/watch?v=pNiECaVMStY</td>\n",
       "      <td>12/7/15</td>\n",
       "      <td>0:57</td>\n",
       "      <td>57107</td>\n",
       "      <td>197</td>\n",
       "      <td>0</td>\n",
       "      <td>thehourofcodeishere.txt</td>\n",
       "      <td>1</td>\n",
       "      <td>Hi, I'm Leigha, and I'm Tanya, and we're lucky...</td>\n",
       "    </tr>\n",
       "  </tbody>\n",
       "</table>\n",
       "</div>"
      ],
      "text/plain": [
       "     channel_name               video_title  \\\n",
       "5435     Code.org  The Hour of Code is Here   \n",
       "\n",
       "                                        video_url publish_date video_length  \\\n",
       "5435  https://www.youtube.com/watch?v=pNiECaVMStY      12/7/15         0:57   \n",
       "\n",
       "      views  likes  comments      transcript_filename  Tier (1, 2, or 3)  \\\n",
       "5435  57107    197         0  thehourofcodeishere.txt                  1   \n",
       "\n",
       "                                                content  \n",
       "5435  Hi, I'm Leigha, and I'm Tanya, and we're lucky...  "
      ]
     },
     "execution_count": 11,
     "metadata": {},
     "output_type": "execute_result"
    }
   ],
   "source": [
    "df_metadata_transcript[df_metadata_transcript['transcript_filename'] == 'thehourofcodeishere.txt']"
   ]
  },
  {
   "cell_type": "code",
   "execution_count": 12,
   "metadata": {},
   "outputs": [
    {
     "data": {
      "text/html": [
       "<div>\n",
       "<style scoped>\n",
       "    .dataframe tbody tr th:only-of-type {\n",
       "        vertical-align: middle;\n",
       "    }\n",
       "\n",
       "    .dataframe tbody tr th {\n",
       "        vertical-align: top;\n",
       "    }\n",
       "\n",
       "    .dataframe thead th {\n",
       "        text-align: right;\n",
       "    }\n",
       "</style>\n",
       "<table border=\"1\" class=\"dataframe\">\n",
       "  <thead>\n",
       "    <tr style=\"text-align: right;\">\n",
       "      <th></th>\n",
       "      <th>channel_name</th>\n",
       "      <th>video_title</th>\n",
       "      <th>video_url</th>\n",
       "      <th>publish_date</th>\n",
       "      <th>video_length</th>\n",
       "      <th>views</th>\n",
       "      <th>likes</th>\n",
       "      <th>comments</th>\n",
       "      <th>transcript_filename</th>\n",
       "      <th>Tier (1, 2, or 3)</th>\n",
       "      <th>content</th>\n",
       "    </tr>\n",
       "  </thead>\n",
       "  <tbody>\n",
       "    <tr>\n",
       "      <th>5434</th>\n",
       "      <td>The Coding Train</td>\n",
       "      <td>Side Project Saturday!</td>\n",
       "      <td>https://www.youtube.com/watch?v=6dMRzNaNQz0</td>\n",
       "      <td>12/5/20</td>\n",
       "      <td>2:46:01</td>\n",
       "      <td>21818</td>\n",
       "      <td>609</td>\n",
       "      <td>13</td>\n",
       "      <td>sideprojectsaturday.txt</td>\n",
       "      <td>2</td>\n",
       "      <td>do do so do audio sound check now uh my audio ...</td>\n",
       "    </tr>\n",
       "  </tbody>\n",
       "</table>\n",
       "</div>"
      ],
      "text/plain": [
       "          channel_name             video_title  \\\n",
       "5434  The Coding Train  Side Project Saturday!   \n",
       "\n",
       "                                        video_url publish_date video_length  \\\n",
       "5434  https://www.youtube.com/watch?v=6dMRzNaNQz0      12/5/20      2:46:01   \n",
       "\n",
       "      views  likes  comments      transcript_filename  Tier (1, 2, or 3)  \\\n",
       "5434  21818    609        13  sideprojectsaturday.txt                  2   \n",
       "\n",
       "                                                content  \n",
       "5434  do do so do audio sound check now uh my audio ...  "
      ]
     },
     "execution_count": 12,
     "metadata": {},
     "output_type": "execute_result"
    }
   ],
   "source": [
    "df_metadata_transcript[df_metadata_transcript['transcript_filename'] == 'sideprojectsaturday.txt']"
   ]
  },
  {
   "cell_type": "code",
   "execution_count": 13,
   "metadata": {},
   "outputs": [
    {
     "data": {
      "text/html": [
       "<div>\n",
       "<style scoped>\n",
       "    .dataframe tbody tr th:only-of-type {\n",
       "        vertical-align: middle;\n",
       "    }\n",
       "\n",
       "    .dataframe tbody tr th {\n",
       "        vertical-align: top;\n",
       "    }\n",
       "\n",
       "    .dataframe thead th {\n",
       "        text-align: right;\n",
       "    }\n",
       "</style>\n",
       "<table border=\"1\" class=\"dataframe\">\n",
       "  <thead>\n",
       "    <tr style=\"text-align: right;\">\n",
       "      <th></th>\n",
       "      <th>channel_name</th>\n",
       "      <th>video_title</th>\n",
       "      <th>video_url</th>\n",
       "      <th>publish_date</th>\n",
       "      <th>video_length</th>\n",
       "      <th>views</th>\n",
       "      <th>likes</th>\n",
       "      <th>comments</th>\n",
       "      <th>transcript_filename</th>\n",
       "      <th>Tier (1, 2, or 3)</th>\n",
       "      <th>content</th>\n",
       "    </tr>\n",
       "  </thead>\n",
       "  <tbody>\n",
       "    <tr>\n",
       "      <th>5432</th>\n",
       "      <td>Brackeys</td>\n",
       "      <td>How to Fade Between Scenes in Unity</td>\n",
       "      <td>https://www.youtube.com/watch?v=Oadq-IrOazg</td>\n",
       "      <td>5/20/18</td>\n",
       "      <td>13:28</td>\n",
       "      <td>342868</td>\n",
       "      <td>8550</td>\n",
       "      <td>483</td>\n",
       "      <td>howtofadebetweenscenesinunity.txt</td>\n",
       "      <td>2</td>\n",
       "      <td>thanks for tuning in at braies hello everyone ...</td>\n",
       "    </tr>\n",
       "  </tbody>\n",
       "</table>\n",
       "</div>"
      ],
      "text/plain": [
       "     channel_name                          video_title  \\\n",
       "5432     Brackeys  How to Fade Between Scenes in Unity   \n",
       "\n",
       "                                        video_url publish_date video_length  \\\n",
       "5432  https://www.youtube.com/watch?v=Oadq-IrOazg      5/20/18        13:28   \n",
       "\n",
       "       views  likes  comments                transcript_filename  \\\n",
       "5432  342868   8550       483  howtofadebetweenscenesinunity.txt   \n",
       "\n",
       "      Tier (1, 2, or 3)                                            content  \n",
       "5432                  2  thanks for tuning in at braies hello everyone ...  "
      ]
     },
     "execution_count": 13,
     "metadata": {},
     "output_type": "execute_result"
    }
   ],
   "source": [
    "df_metadata_transcript[df_metadata_transcript['transcript_filename'] == 'howtofadebetweenscenesinunity.txt']"
   ]
  },
  {
   "cell_type": "code",
   "execution_count": 14,
   "metadata": {},
   "outputs": [
    {
     "data": {
      "text/html": [
       "<div>\n",
       "<style scoped>\n",
       "    .dataframe tbody tr th:only-of-type {\n",
       "        vertical-align: middle;\n",
       "    }\n",
       "\n",
       "    .dataframe tbody tr th {\n",
       "        vertical-align: top;\n",
       "    }\n",
       "\n",
       "    .dataframe thead th {\n",
       "        text-align: right;\n",
       "    }\n",
       "</style>\n",
       "<table border=\"1\" class=\"dataframe\">\n",
       "  <thead>\n",
       "    <tr style=\"text-align: right;\">\n",
       "      <th></th>\n",
       "      <th>channel_name</th>\n",
       "      <th>video_title</th>\n",
       "      <th>video_url</th>\n",
       "      <th>publish_date</th>\n",
       "      <th>video_length</th>\n",
       "      <th>views</th>\n",
       "      <th>likes</th>\n",
       "      <th>comments</th>\n",
       "      <th>transcript_filename</th>\n",
       "      <th>Tier (1, 2, or 3)</th>\n",
       "      <th>content</th>\n",
       "    </tr>\n",
       "  </thead>\n",
       "  <tbody>\n",
       "    <tr>\n",
       "      <th>5433</th>\n",
       "      <td>The Coding Train</td>\n",
       "      <td>2.1: Variables in p5.js (mouseX, mouseY) - p5....</td>\n",
       "      <td>https://www.youtube.com/watch?v=7A5tKW9HGoM</td>\n",
       "      <td>5/19/21</td>\n",
       "      <td>10:41</td>\n",
       "      <td>103472</td>\n",
       "      <td>1894</td>\n",
       "      <td>78</td>\n",
       "      <td>21variablesinp5jsmousexmouseyp5jstutorial.txt</td>\n",
       "      <td>2</td>\n",
       "      <td>Hello, variables, p5.js, JavaScript, I'm just ...</td>\n",
       "    </tr>\n",
       "  </tbody>\n",
       "</table>\n",
       "</div>"
      ],
      "text/plain": [
       "          channel_name                                        video_title  \\\n",
       "5433  The Coding Train  2.1: Variables in p5.js (mouseX, mouseY) - p5....   \n",
       "\n",
       "                                        video_url publish_date video_length  \\\n",
       "5433  https://www.youtube.com/watch?v=7A5tKW9HGoM      5/19/21        10:41   \n",
       "\n",
       "       views  likes  comments                            transcript_filename  \\\n",
       "5433  103472   1894        78  21variablesinp5jsmousexmouseyp5jstutorial.txt   \n",
       "\n",
       "      Tier (1, 2, or 3)                                            content  \n",
       "5433                  2  Hello, variables, p5.js, JavaScript, I'm just ...  "
      ]
     },
     "execution_count": 14,
     "metadata": {},
     "output_type": "execute_result"
    }
   ],
   "source": [
    "df_metadata_transcript[df_metadata_transcript['transcript_filename'] == '21variablesinp5jsmousexmouseyp5jstutorial.txt']"
   ]
  }
 ],
 "metadata": {
  "kernelspec": {
   "display_name": "Python 3",
   "language": "python",
   "name": "python3"
  },
  "language_info": {
   "codemirror_mode": {
    "name": "ipython",
    "version": 3
   },
   "file_extension": ".py",
   "mimetype": "text/x-python",
   "name": "python",
   "nbconvert_exporter": "python",
   "pygments_lexer": "ipython3",
   "version": "3.13.0"
  }
 },
 "nbformat": 4,
 "nbformat_minor": 2
}
